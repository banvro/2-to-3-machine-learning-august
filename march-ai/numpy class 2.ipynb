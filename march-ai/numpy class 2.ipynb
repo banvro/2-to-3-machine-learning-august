{
 "cells": [
  {
   "cell_type": "code",
   "execution_count": 1,
   "id": "e08105bb-6523-4cba-a419-6a2e5412fd5e",
   "metadata": {},
   "outputs": [],
   "source": [
    "# Numpy : "
   ]
  },
  {
   "cell_type": "code",
   "execution_count": 2,
   "id": "3c09f3dd-b35d-4313-8b2a-b9b7aed35511",
   "metadata": {},
   "outputs": [],
   "source": [
    "import numpy as np"
   ]
  },
  {
   "cell_type": "code",
   "execution_count": 7,
   "id": "b6651f25-feda-40d0-b818-b1c7764b9682",
   "metadata": {},
   "outputs": [],
   "source": [
    "arr = np.array([[[12, 34, 56, 100], [45, 34, 45, 100]], [[45, 34, 56, 23], [67, 45, 34, 2]]])"
   ]
  },
  {
   "cell_type": "code",
   "execution_count": 8,
   "id": "3d228a4e-c187-411d-a094-fef44b91dd98",
   "metadata": {},
   "outputs": [
    {
     "data": {
      "text/plain": [
       "3"
      ]
     },
     "execution_count": 8,
     "metadata": {},
     "output_type": "execute_result"
    }
   ],
   "source": [
    "arr.ndim"
   ]
  },
  {
   "cell_type": "code",
   "execution_count": 9,
   "id": "d63d459f-e983-4e5c-83ae-cf7b6c8f4a04",
   "metadata": {},
   "outputs": [
    {
     "data": {
      "text/plain": [
       "array([[[ 12,  34,  56, 100],\n",
       "        [ 45,  34,  45, 100]],\n",
       "\n",
       "       [[ 45,  34,  56,  23],\n",
       "        [ 67,  45,  34,   2]]])"
      ]
     },
     "execution_count": 9,
     "metadata": {},
     "output_type": "execute_result"
    }
   ],
   "source": [
    "arr"
   ]
  },
  {
   "cell_type": "code",
   "execution_count": null,
   "id": "c9149ceb-489d-473d-96aa-fdbc9f406443",
   "metadata": {},
   "outputs": [],
   "source": []
  },
  {
   "cell_type": "code",
   "execution_count": null,
   "id": "48e4cb07-6ee9-4a5b-9fe1-c67dfae19790",
   "metadata": {},
   "outputs": [],
   "source": []
  },
  {
   "cell_type": "code",
   "execution_count": 10,
   "id": "eda1332a-81ef-4349-bf09-a29006ce45fe",
   "metadata": {},
   "outputs": [],
   "source": [
    "# list"
   ]
  },
  {
   "cell_type": "code",
   "execution_count": null,
   "id": "4abd235f-29db-405b-8847-990be9fc12d3",
   "metadata": {},
   "outputs": [],
   "source": []
  },
  {
   "cell_type": "code",
   "execution_count": 11,
   "id": "a1386267-49fc-4555-b57f-49b67c9c6444",
   "metadata": {},
   "outputs": [],
   "source": [
    "# indexing with 1 d ndarray"
   ]
  },
  {
   "cell_type": "code",
   "execution_count": 13,
   "id": "15cab7f1-3e01-425d-bb0e-cfa14e6d0f68",
   "metadata": {},
   "outputs": [],
   "source": [
    "x = np.array([34, 56, 34, 23, 45, 65, 45, 78, 34, 100])"
   ]
  },
  {
   "cell_type": "code",
   "execution_count": 14,
   "id": "a34ba7dc-6129-430c-91b9-5593febe49ef",
   "metadata": {},
   "outputs": [],
   "source": [
    "# objname[indexnumber]"
   ]
  },
  {
   "cell_type": "code",
   "execution_count": 15,
   "id": "09d4d208-10a5-476a-bb75-41a816baed06",
   "metadata": {},
   "outputs": [
    {
     "data": {
      "text/plain": [
       "23"
      ]
     },
     "execution_count": 15,
     "metadata": {},
     "output_type": "execute_result"
    }
   ],
   "source": [
    "x[3]"
   ]
  },
  {
   "cell_type": "code",
   "execution_count": 16,
   "id": "0b75f50a-24ee-437d-9ad7-e0d94c19fbd3",
   "metadata": {},
   "outputs": [
    {
     "data": {
      "text/plain": [
       "78"
      ]
     },
     "execution_count": 16,
     "metadata": {},
     "output_type": "execute_result"
    }
   ],
   "source": [
    "x[7]"
   ]
  },
  {
   "cell_type": "code",
   "execution_count": 17,
   "id": "2a22bc46-0794-4fa2-8c5c-158de5cadfb0",
   "metadata": {},
   "outputs": [],
   "source": [
    "# negtive indexing....."
   ]
  },
  {
   "cell_type": "code",
   "execution_count": 18,
   "id": "e8143604-2da9-4d99-864b-ec3575a64241",
   "metadata": {},
   "outputs": [
    {
     "data": {
      "text/plain": [
       "34"
      ]
     },
     "execution_count": 18,
     "metadata": {},
     "output_type": "execute_result"
    }
   ],
   "source": [
    "x[-2]"
   ]
  },
  {
   "cell_type": "code",
   "execution_count": null,
   "id": "0645de7a-4df9-4d79-b978-f8d3ab5dfdd2",
   "metadata": {},
   "outputs": [],
   "source": []
  },
  {
   "cell_type": "code",
   "execution_count": 19,
   "id": "425bf019-6fe0-4d9a-b95c-a90bb3c8a3ee",
   "metadata": {},
   "outputs": [],
   "source": [
    "# slicingggggg:"
   ]
  },
  {
   "cell_type": "code",
   "execution_count": 20,
   "id": "ad4fda6e-10e3-40c2-a9e6-0e3ba4089316",
   "metadata": {},
   "outputs": [],
   "source": [
    "x = np.array([34, 56, 34, 23, 45, 65, 45, 78, 34, 100])"
   ]
  },
  {
   "cell_type": "code",
   "execution_count": null,
   "id": "6f1367eb-7dda-43f0-94b1-dea65657c4be",
   "metadata": {},
   "outputs": [],
   "source": [
    "# objename[start : end : increment]\n",
    "\n",
    "# default :\n",
    "# start : 0\n",
    "# end : n - 1\n",
    "# increment : 1"
   ]
  },
  {
   "cell_type": "code",
   "execution_count": 21,
   "id": "535cf987-7e4d-4b48-9b4a-94c7327c4bac",
   "metadata": {},
   "outputs": [
    {
     "data": {
      "text/plain": [
       "array([56, 34, 23, 45, 65])"
      ]
     },
     "execution_count": 21,
     "metadata": {},
     "output_type": "execute_result"
    }
   ],
   "source": [
    "x[1 : 6 : 1]"
   ]
  },
  {
   "cell_type": "code",
   "execution_count": 23,
   "id": "e5d3094b-55dd-47f9-9653-810ff2278b07",
   "metadata": {},
   "outputs": [
    {
     "data": {
      "text/plain": [
       "array([23, 45, 65, 45, 78, 34])"
      ]
     },
     "execution_count": 23,
     "metadata": {},
     "output_type": "execute_result"
    }
   ],
   "source": [
    "x[3 : 9 : 1]"
   ]
  },
  {
   "cell_type": "code",
   "execution_count": 24,
   "id": "7872f0e8-b6bc-4cc2-ab79-27e83262cf6c",
   "metadata": {},
   "outputs": [
    {
     "data": {
      "text/plain": [
       "array([34, 56, 34, 23, 45, 65])"
      ]
     },
     "execution_count": 24,
     "metadata": {},
     "output_type": "execute_result"
    }
   ],
   "source": [
    "x[ : 7]"
   ]
  },
  {
   "cell_type": "code",
   "execution_count": null,
   "id": "d9679a53-0089-43fb-866b-388391b8c679",
   "metadata": {},
   "outputs": [],
   "source": []
  },
  {
   "cell_type": "code",
   "execution_count": 25,
   "id": "5e069d40-c3d6-4020-9aa1-18c525dd4a2f",
   "metadata": {},
   "outputs": [],
   "source": [
    "x = np.array([34, 56, 34, 23, 45, 65, 45, 78, 34, 100])"
   ]
  },
  {
   "cell_type": "code",
   "execution_count": 27,
   "id": "5bb2786b-c1e1-42e0-91f2-c755ddbc609a",
   "metadata": {},
   "outputs": [
    {
     "data": {
      "text/plain": [
       "array([34, 45, 45, 34])"
      ]
     },
     "execution_count": 27,
     "metadata": {},
     "output_type": "execute_result"
    }
   ],
   "source": [
    "x[2 : : 2]"
   ]
  },
  {
   "cell_type": "code",
   "execution_count": null,
   "id": "8d45406b-41da-431b-939b-e60f3095b4df",
   "metadata": {},
   "outputs": [],
   "source": []
  },
  {
   "cell_type": "code",
   "execution_count": 28,
   "id": "687f2244-ad9f-4990-ad80-97e85de28c00",
   "metadata": {},
   "outputs": [
    {
     "data": {
      "text/plain": [
       "array([100,  34,  78,  45,  65,  45,  23,  34,  56,  34])"
      ]
     },
     "execution_count": 28,
     "metadata": {},
     "output_type": "execute_result"
    }
   ],
   "source": [
    "x[: : -1]"
   ]
  },
  {
   "cell_type": "code",
   "execution_count": null,
   "id": "2fa5ccae-aa9d-4b8a-bc55-3b699d7ff5fb",
   "metadata": {},
   "outputs": [],
   "source": []
  },
  {
   "cell_type": "code",
   "execution_count": null,
   "id": "245a089e-0a09-404c-93fd-1bb70ead7df0",
   "metadata": {},
   "outputs": [],
   "source": []
  },
  {
   "cell_type": "markdown",
   "id": "abbe2a6a-d876-4ad8-ab15-2122b5ab2ccb",
   "metadata": {},
   "source": [
    "## extract data from 2d"
   ]
  },
  {
   "cell_type": "code",
   "execution_count": 34,
   "id": "45fba2c7-12ff-475a-b522-47a15b18add6",
   "metadata": {},
   "outputs": [],
   "source": [
    "xy = np.array([[34, 56, 34, 2, 45, 23, 45, 23], [45, 23, 45, 67, 34, 23, 45, 23]])"
   ]
  },
  {
   "cell_type": "code",
   "execution_count": 35,
   "id": "c2ee0981-1df1-4c1d-908f-369ca2281096",
   "metadata": {},
   "outputs": [
    {
     "data": {
      "text/plain": [
       "array([[34, 56, 34,  2, 45, 23, 45, 23],\n",
       "       [45, 23, 45, 67, 34, 23, 45, 23]])"
      ]
     },
     "execution_count": 35,
     "metadata": {},
     "output_type": "execute_result"
    }
   ],
   "source": [
    "xy"
   ]
  },
  {
   "cell_type": "code",
   "execution_count": 38,
   "id": "ed6b26d4-35fd-4397-a4ff-ab3cb69e9e94",
   "metadata": {},
   "outputs": [
    {
     "data": {
      "text/plain": [
       "67"
      ]
     },
     "execution_count": 38,
     "metadata": {},
     "output_type": "execute_result"
    }
   ],
   "source": [
    "xy[1][3]"
   ]
  },
  {
   "cell_type": "code",
   "execution_count": 41,
   "id": "5970d135-cb5d-4d5a-89b5-5f80623d946c",
   "metadata": {},
   "outputs": [
    {
     "data": {
      "text/plain": [
       "2"
      ]
     },
     "execution_count": 41,
     "metadata": {},
     "output_type": "execute_result"
    }
   ],
   "source": [
    "xy[0][3]"
   ]
  },
  {
   "cell_type": "code",
   "execution_count": 43,
   "id": "a03fb2ba-dc3d-4cab-9c0b-e9a04a49e4f0",
   "metadata": {},
   "outputs": [
    {
     "data": {
      "text/plain": [
       "array([23, 45, 67, 34, 23])"
      ]
     },
     "execution_count": 43,
     "metadata": {},
     "output_type": "execute_result"
    }
   ],
   "source": [
    "xy[1][1 : 6]"
   ]
  },
  {
   "cell_type": "code",
   "execution_count": null,
   "id": "0f40e085-b184-45dd-8eb9-8667ba546351",
   "metadata": {},
   "outputs": [],
   "source": []
  },
  {
   "cell_type": "code",
   "execution_count": 44,
   "id": "320ff6fc-0bf8-4241-91b8-6a6cd421c392",
   "metadata": {},
   "outputs": [],
   "source": [
    "arr = np.array([[[12, 34, 56, 100], [45, 34, 45, 100]], [[45, 34, 56, 23], [67, 45, 34, 2]]])"
   ]
  },
  {
   "cell_type": "code",
   "execution_count": null,
   "id": "99d7c0eb-6b29-451f-913a-f6a733c9bd37",
   "metadata": {},
   "outputs": [],
   "source": []
  },
  {
   "cell_type": "code",
   "execution_count": 48,
   "id": "66bff9a4-6abb-46ae-9eb0-e2ae191ebaf7",
   "metadata": {},
   "outputs": [
    {
     "data": {
      "text/plain": [
       "2"
      ]
     },
     "execution_count": 48,
     "metadata": {},
     "output_type": "execute_result"
    }
   ],
   "source": [
    "arr[1][1][-1]"
   ]
  },
  {
   "cell_type": "code",
   "execution_count": null,
   "id": "5d6003d0-ba0f-42d1-9f2e-723ab90b4bb3",
   "metadata": {},
   "outputs": [],
   "source": []
  },
  {
   "cell_type": "code",
   "execution_count": 59,
   "id": "84bd6e85-91b1-463d-9d68-aae5ccf4fd5b",
   "metadata": {},
   "outputs": [
    {
     "data": {
      "text/plain": [
       "23"
      ]
     },
     "execution_count": 59,
     "metadata": {},
     "output_type": "execute_result"
    }
   ],
   "source": [
    "arr[1][0][-1]"
   ]
  },
  {
   "cell_type": "code",
   "execution_count": 60,
   "id": "6d076bfd-c9f9-48fa-b120-c43d6f85a1da",
   "metadata": {},
   "outputs": [],
   "source": [
    "x = np.array([34, 56, 34, 23, 45, 65, 45, 78, 34, 100])"
   ]
  },
  {
   "cell_type": "code",
   "execution_count": 61,
   "id": "970fd399-712b-45a0-8bbe-78c1e07eb5a8",
   "metadata": {},
   "outputs": [
    {
     "data": {
      "text/plain": [
       "(45, 100)"
      ]
     },
     "execution_count": 61,
     "metadata": {},
     "output_type": "execute_result"
    }
   ],
   "source": [
    "x[4], x[-1]"
   ]
  },
  {
   "cell_type": "code",
   "execution_count": 72,
   "id": "33a8cced-da1e-4ad7-a30d-a596887b4840",
   "metadata": {},
   "outputs": [],
   "source": [
    "zx = np.array([[[[[[34, 56, 34]]]]]])"
   ]
  },
  {
   "cell_type": "code",
   "execution_count": 65,
   "id": "0327d038-680d-4baf-83a8-4f4b6fc1f2b6",
   "metadata": {},
   "outputs": [
    {
     "data": {
      "text/plain": [
       "6"
      ]
     },
     "execution_count": 65,
     "metadata": {},
     "output_type": "execute_result"
    }
   ],
   "source": [
    "zx.ndim"
   ]
  },
  {
   "cell_type": "code",
   "execution_count": 74,
   "id": "adb22a10-49bc-4442-9921-83e84565218a",
   "metadata": {},
   "outputs": [
    {
     "data": {
      "text/plain": [
       "56"
      ]
     },
     "execution_count": 74,
     "metadata": {},
     "output_type": "execute_result"
    }
   ],
   "source": [
    "zx[0][0][0][0][0][1]"
   ]
  },
  {
   "cell_type": "code",
   "execution_count": 76,
   "id": "c32e6ad4-9838-46c9-8ed0-e9d6261840f7",
   "metadata": {},
   "outputs": [
    {
     "ename": "IndexError",
     "evalue": "index 6 is out of bounds for axis 0 with size 1",
     "output_type": "error",
     "traceback": [
      "\u001b[1;31m---------------------------------------------------------------------------\u001b[0m",
      "\u001b[1;31mIndexError\u001b[0m                                Traceback (most recent call last)",
      "Cell \u001b[1;32mIn[76], line 1\u001b[0m\n\u001b[1;32m----> 1\u001b[0m \u001b[43mzx\u001b[49m\u001b[43m[\u001b[49m\u001b[38;5;241;43m6\u001b[39;49m\u001b[43m]\u001b[49m[\u001b[38;5;241m0\u001b[39m][\u001b[38;5;241m3\u001b[39m]\n",
      "\u001b[1;31mIndexError\u001b[0m: index 6 is out of bounds for axis 0 with size 1"
     ]
    }
   ],
   "source": [
    "zx[6][0][3]"
   ]
  },
  {
   "cell_type": "code",
   "execution_count": null,
   "id": "566bf6b9-7389-450d-869b-b41c8ae9ae49",
   "metadata": {},
   "outputs": [],
   "source": []
  },
  {
   "cell_type": "code",
   "execution_count": 89,
   "id": "b6b586f2-e071-4dc1-a54a-804f5cf5db22",
   "metadata": {},
   "outputs": [],
   "source": [
    "x = np.array([[[[12, 34, 5], [56, 34, 2]], [[56, 45, 34], [45, 45, 23]]], [[[12, 34, 5], [8, 34, 2]], [[56, 45, 34], [45, 45, 23]]]])"
   ]
  },
  {
   "cell_type": "code",
   "execution_count": 90,
   "id": "945b346f-184e-4f6a-9327-648f47cdefbe",
   "metadata": {},
   "outputs": [
    {
     "data": {
      "text/plain": [
       "4"
      ]
     },
     "execution_count": 90,
     "metadata": {},
     "output_type": "execute_result"
    }
   ],
   "source": [
    "x.ndim"
   ]
  },
  {
   "cell_type": "code",
   "execution_count": 96,
   "id": "31029b23-6dbb-4211-a76b-e4615a067ef7",
   "metadata": {},
   "outputs": [
    {
     "data": {
      "text/plain": [
       "8"
      ]
     },
     "execution_count": 96,
     "metadata": {},
     "output_type": "execute_result"
    }
   ],
   "source": [
    "x[1][0][1][0]"
   ]
  },
  {
   "cell_type": "code",
   "execution_count": null,
   "id": "02622bcd-80d6-4370-9467-066aab3dea8e",
   "metadata": {},
   "outputs": [],
   "source": []
  },
  {
   "cell_type": "code",
   "execution_count": null,
   "id": "e5044c9c-8497-4d18-971e-558717facb12",
   "metadata": {},
   "outputs": [],
   "source": []
  },
  {
   "cell_type": "code",
   "execution_count": 97,
   "id": "93cb8e93-fb8b-4904-935e-92f2a91a4537",
   "metadata": {},
   "outputs": [],
   "source": [
    "# Ndarray Modification..."
   ]
  },
  {
   "cell_type": "code",
   "execution_count": 98,
   "id": "24de694a-926b-4b3a-b107-a53372c2607f",
   "metadata": {},
   "outputs": [],
   "source": [
    "# 1) elements replace"
   ]
  },
  {
   "cell_type": "code",
   "execution_count": 99,
   "id": "123ff109-a23d-4cf2-a8d4-b4acba3b1bfb",
   "metadata": {},
   "outputs": [],
   "source": [
    "x = np.array([34, 56, 34, 23, 45, 65, 45, 78, 34, 100])"
   ]
  },
  {
   "cell_type": "code",
   "execution_count": 100,
   "id": "d906bb7a-2487-4b98-a26d-3a8f87c35e27",
   "metadata": {},
   "outputs": [],
   "source": [
    "# objname[indexnumber] = newelement"
   ]
  },
  {
   "cell_type": "code",
   "execution_count": 101,
   "id": "db3b7ae5-a720-47c4-85b5-93158f86b050",
   "metadata": {},
   "outputs": [],
   "source": [
    "x[5] = 700"
   ]
  },
  {
   "cell_type": "code",
   "execution_count": 102,
   "id": "a0c49dd0-4aee-43ba-89a3-b1c5f33fbedb",
   "metadata": {},
   "outputs": [
    {
     "data": {
      "text/plain": [
       "array([ 34,  56,  34,  23,  45, 700,  45,  78,  34, 100])"
      ]
     },
     "execution_count": 102,
     "metadata": {},
     "output_type": "execute_result"
    }
   ],
   "source": [
    "x"
   ]
  },
  {
   "cell_type": "code",
   "execution_count": null,
   "id": "4965153f-9e21-4511-a23d-ba5ff24f5846",
   "metadata": {},
   "outputs": [],
   "source": []
  },
  {
   "cell_type": "code",
   "execution_count": null,
   "id": "76545de4-2f5e-4436-bb30-e7abf476149f",
   "metadata": {},
   "outputs": [],
   "source": []
  },
  {
   "cell_type": "code",
   "execution_count": 103,
   "id": "ccb9119a-c187-4483-94a5-54d05b123b7c",
   "metadata": {},
   "outputs": [],
   "source": [
    "x = np.array([34, 56, 34, 23, 45, 65, 45, 78, 34, 100])"
   ]
  },
  {
   "cell_type": "code",
   "execution_count": 104,
   "id": "9c820b1a-ab4b-4726-9e49-f0df491440d6",
   "metadata": {},
   "outputs": [],
   "source": [
    "mych = [0, 3, -1]\n",
    "\n",
    "ele = [100, 200, 300]"
   ]
  },
  {
   "cell_type": "code",
   "execution_count": 105,
   "id": "2992e895-59ed-496c-b830-3763905306e6",
   "metadata": {},
   "outputs": [],
   "source": [
    "x[mych] = ele"
   ]
  },
  {
   "cell_type": "code",
   "execution_count": 106,
   "id": "d0242ba0-aad2-4162-9ad0-c21c4075efec",
   "metadata": {},
   "outputs": [
    {
     "data": {
      "text/plain": [
       "array([100,  56,  34, 200,  45,  65,  45,  78,  34, 300])"
      ]
     },
     "execution_count": 106,
     "metadata": {},
     "output_type": "execute_result"
    }
   ],
   "source": [
    "x"
   ]
  },
  {
   "cell_type": "code",
   "execution_count": null,
   "id": "3fa35216-9fec-426c-aae4-914eec0b139f",
   "metadata": {},
   "outputs": [],
   "source": []
  },
  {
   "cell_type": "code",
   "execution_count": null,
   "id": "f96e6a87-62f4-40c7-9d6d-05dde8bd9a27",
   "metadata": {},
   "outputs": [],
   "source": []
  },
  {
   "cell_type": "code",
   "execution_count": 107,
   "id": "05c0cab4-bf9c-4d0f-ab9c-200675475331",
   "metadata": {},
   "outputs": [],
   "source": [
    "# append()"
   ]
  },
  {
   "cell_type": "code",
   "execution_count": 108,
   "id": "bc294b42-600b-4aef-8cfc-ef895138485d",
   "metadata": {},
   "outputs": [],
   "source": [
    "x = np.array([34, 56, 34, 23, 45, 65, 45, 78, 34, 100])"
   ]
  },
  {
   "cell_type": "code",
   "execution_count": null,
   "id": "896582eb-eb0f-4c52-83bb-b6b4c4873c70",
   "metadata": {},
   "outputs": [],
   "source": []
  },
  {
   "cell_type": "code",
   "execution_count": 109,
   "id": "30f0e8af-d632-43b6-b9a6-22e01b07eec2",
   "metadata": {},
   "outputs": [],
   "source": [
    "# append()"
   ]
  },
  {
   "cell_type": "code",
   "execution_count": 110,
   "id": "2dab044c-fbb2-48b2-850b-b4027f5bf235",
   "metadata": {},
   "outputs": [],
   "source": [
    "# np.append(objename, elmet)"
   ]
  },
  {
   "cell_type": "code",
   "execution_count": 113,
   "id": "2bb7bfc0-6174-4488-8273-0e17cae9b45a",
   "metadata": {},
   "outputs": [],
   "source": [
    "y = np.append(x, 5000)"
   ]
  },
  {
   "cell_type": "code",
   "execution_count": 114,
   "id": "ad4e5e37-2fb4-43a1-bead-d070135006be",
   "metadata": {},
   "outputs": [
    {
     "data": {
      "text/plain": [
       "array([  34,   56,   34,   23,   45,   65,   45,   78,   34,  100, 5000])"
      ]
     },
     "execution_count": 114,
     "metadata": {},
     "output_type": "execute_result"
    }
   ],
   "source": [
    "y"
   ]
  },
  {
   "cell_type": "code",
   "execution_count": 117,
   "id": "2d5de331-30af-4976-8482-ca16b1a871a6",
   "metadata": {},
   "outputs": [],
   "source": [
    "y = np.append(x, [1, 2, 1, 2, 3, 1, 2, 3])"
   ]
  },
  {
   "cell_type": "code",
   "execution_count": 118,
   "id": "1b11e5db-df0e-499a-b206-98b1734ec650",
   "metadata": {},
   "outputs": [
    {
     "data": {
      "text/plain": [
       "array([ 34,  56,  34,  23,  45,  65,  45,  78,  34, 100,   1,   2,   1,\n",
       "         2,   3,   1,   2,   3])"
      ]
     },
     "execution_count": 118,
     "metadata": {},
     "output_type": "execute_result"
    }
   ],
   "source": [
    "y"
   ]
  },
  {
   "cell_type": "code",
   "execution_count": null,
   "id": "27691a4c-510b-4056-b734-ff1840d7624a",
   "metadata": {},
   "outputs": [],
   "source": []
  },
  {
   "cell_type": "code",
   "execution_count": 119,
   "id": "99d21111-9211-4ffe-af29-e76490017343",
   "metadata": {},
   "outputs": [],
   "source": [
    "# insert()"
   ]
  },
  {
   "cell_type": "code",
   "execution_count": 120,
   "id": "11ecd75f-6706-4d29-8025-61492c7a8b2e",
   "metadata": {},
   "outputs": [],
   "source": [
    "x = np.array([34, 56, 34, 23, 45, 65, 45, 78, 34, 100])"
   ]
  },
  {
   "cell_type": "code",
   "execution_count": null,
   "id": "a2114f08-7ed0-4116-8c39-1b60f04a8310",
   "metadata": {},
   "outputs": [],
   "source": []
  },
  {
   "cell_type": "code",
   "execution_count": 122,
   "id": "d5ab4793-2e10-486f-ba82-1972db679205",
   "metadata": {},
   "outputs": [],
   "source": [
    "# np.insert(objename, indexnumber, elmentname)"
   ]
  },
  {
   "cell_type": "code",
   "execution_count": 123,
   "id": "493073de-b45b-462d-8fa3-c9f1a8d7c111",
   "metadata": {},
   "outputs": [
    {
     "data": {
      "text/plain": [
       "array([ 34,  20,  56,  34,  23,  45,  65,  45,  78,  34, 100])"
      ]
     },
     "execution_count": 123,
     "metadata": {},
     "output_type": "execute_result"
    }
   ],
   "source": [
    "np.insert(x, 1, 20)"
   ]
  },
  {
   "cell_type": "code",
   "execution_count": null,
   "id": "57980037-4b24-45ac-a382-79e4ef12f260",
   "metadata": {},
   "outputs": [],
   "source": []
  },
  {
   "cell_type": "code",
   "execution_count": 124,
   "id": "5d7a6806-f1ce-4705-a792-dcf6bdc8a8ee",
   "metadata": {},
   "outputs": [],
   "source": [
    "# delete:"
   ]
  },
  {
   "cell_type": "code",
   "execution_count": 125,
   "id": "373864ba-d783-47e2-ac01-619dae3bd656",
   "metadata": {},
   "outputs": [],
   "source": [
    "x = np.array([34, 56, 34, 23, 45, 65, 45, 78, 34, 100])"
   ]
  },
  {
   "cell_type": "code",
   "execution_count": 126,
   "id": "53e2537c-0815-4e00-9c27-7a2c2cd21333",
   "metadata": {},
   "outputs": [],
   "source": [
    "# np.delete(objname, elmet index number)"
   ]
  },
  {
   "cell_type": "code",
   "execution_count": 129,
   "id": "bce9fad0-0080-495b-9273-f05252e1145d",
   "metadata": {},
   "outputs": [
    {
     "data": {
      "text/plain": [
       "array([ 34,  56,  34,  23,  65,  45,  78,  34, 100])"
      ]
     },
     "execution_count": 129,
     "metadata": {},
     "output_type": "execute_result"
    }
   ],
   "source": [
    "np.delete(x, 4)"
   ]
  },
  {
   "cell_type": "code",
   "execution_count": null,
   "id": "c01ce452-dfe7-4a82-b0d1-995e51294341",
   "metadata": {},
   "outputs": [],
   "source": []
  }
 ],
 "metadata": {
  "kernelspec": {
   "display_name": "Python 3 (ipykernel)",
   "language": "python",
   "name": "python3"
  },
  "language_info": {
   "codemirror_mode": {
    "name": "ipython",
    "version": 3
   },
   "file_extension": ".py",
   "mimetype": "text/x-python",
   "name": "python",
   "nbconvert_exporter": "python",
   "pygments_lexer": "ipython3",
   "version": "3.12.0"
  }
 },
 "nbformat": 4,
 "nbformat_minor": 5
}
