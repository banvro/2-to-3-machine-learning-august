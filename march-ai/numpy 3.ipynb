{
 "cells": [
  {
   "cell_type": "code",
   "execution_count": 1,
   "id": "7fcf1b38-ee22-495c-914e-12830b9167d4",
   "metadata": {},
   "outputs": [],
   "source": [
    "# Numpy Reshape::"
   ]
  },
  {
   "cell_type": "code",
   "execution_count": 2,
   "id": "a43cbc82-a1c1-436f-8e48-a9c186a2157d",
   "metadata": {},
   "outputs": [],
   "source": [
    "import numpy as np"
   ]
  },
  {
   "cell_type": "code",
   "execution_count": 3,
   "id": "284fd08c-f508-46ad-93db-812e147e1eec",
   "metadata": {},
   "outputs": [],
   "source": [
    "x = np.array([12, 56, 4, 56, 34, 23, 56, 23, 1, 34, 56, 23, 100, 90])"
   ]
  },
  {
   "cell_type": "code",
   "execution_count": 4,
   "id": "c6f6b3e5-f6fb-40d2-bec2-724af3800f7d",
   "metadata": {},
   "outputs": [
    {
     "data": {
      "text/plain": [
       "14"
      ]
     },
     "execution_count": 4,
     "metadata": {},
     "output_type": "execute_result"
    }
   ],
   "source": [
    "len(x)"
   ]
  },
  {
   "cell_type": "code",
   "execution_count": 5,
   "id": "421ed6e3-2bc9-4632-903f-8c13a44d5f95",
   "metadata": {},
   "outputs": [],
   "source": [
    "# [12, 34, 5, 34, 23, 45]"
   ]
  },
  {
   "cell_type": "code",
   "execution_count": null,
   "id": "82170dc9-ea63-44a4-ad33-c08c6fbb2911",
   "metadata": {},
   "outputs": [],
   "source": []
  },
  {
   "cell_type": "markdown",
   "id": "b8d8b217-766e-4aa5-a1bf-5c5595f4ccb9",
   "metadata": {},
   "source": [
    "## 1D to 2D ndarray:"
   ]
  },
  {
   "cell_type": "code",
   "execution_count": 9,
   "id": "be1f48aa-fae8-4cbf-951f-4e159fba94e1",
   "metadata": {},
   "outputs": [],
   "source": [
    "x = np.array([12, 56, 4, 56, 34, 23, 56, 23, 1, 34, 56, 23, 100, 90, 45])"
   ]
  },
  {
   "cell_type": "code",
   "execution_count": 11,
   "id": "61bf3b8e-41d1-45ec-98a2-5125333a1f78",
   "metadata": {},
   "outputs": [
    {
     "data": {
      "text/plain": [
       "array([[ 12,  56,   4],\n",
       "       [ 56,  34,  23],\n",
       "       [ 56,  23,   1],\n",
       "       [ 34,  56,  23],\n",
       "       [100,  90,  45]])"
      ]
     },
     "execution_count": 11,
     "metadata": {},
     "output_type": "execute_result"
    }
   ],
   "source": [
    "x.reshape(5, 3)"
   ]
  },
  {
   "cell_type": "code",
   "execution_count": null,
   "id": "097c62fb-35c9-413a-9af3-d4195ae27a2a",
   "metadata": {},
   "outputs": [],
   "source": []
  },
  {
   "cell_type": "code",
   "execution_count": null,
   "id": "e1049f76-b65d-4fc5-b3b8-316c14a5d302",
   "metadata": {},
   "outputs": [],
   "source": []
  },
  {
   "cell_type": "code",
   "execution_count": 15,
   "id": "1cbab2fd-e274-4b09-89a0-aa8241007587",
   "metadata": {},
   "outputs": [],
   "source": [
    "x = np.array([12, 56, 4, 56, 34, 23, 56, 23, 1, 34, 56, 23, 100, 90, 45, 34, 56, 34])"
   ]
  },
  {
   "cell_type": "code",
   "execution_count": 17,
   "id": "a37a8d70-26b3-45b7-892d-4c86920ad747",
   "metadata": {},
   "outputs": [
    {
     "data": {
      "text/plain": [
       "18"
      ]
     },
     "execution_count": 17,
     "metadata": {},
     "output_type": "execute_result"
    }
   ],
   "source": [
    "len(x)"
   ]
  },
  {
   "cell_type": "code",
   "execution_count": 16,
   "id": "af6263e2-5a4d-402c-9aee-8dfb56bf153d",
   "metadata": {},
   "outputs": [
    {
     "data": {
      "text/plain": [
       "array([[[ 12,  56],\n",
       "        [  4,  56],\n",
       "        [ 34,  23]],\n",
       "\n",
       "       [[ 56,  23],\n",
       "        [  1,  34],\n",
       "        [ 56,  23]],\n",
       "\n",
       "       [[100,  90],\n",
       "        [ 45,  34],\n",
       "        [ 56,  34]]])"
      ]
     },
     "execution_count": 16,
     "metadata": {},
     "output_type": "execute_result"
    }
   ],
   "source": [
    "x.reshape(3, 3, 2)"
   ]
  },
  {
   "cell_type": "code",
   "execution_count": null,
   "id": "e44dffcf-27ce-41a0-a1ba-0d82f0b9bc52",
   "metadata": {},
   "outputs": [],
   "source": []
  },
  {
   "cell_type": "code",
   "execution_count": null,
   "id": "e89a3aff-1f45-4d43-ba24-8d0343af7389",
   "metadata": {},
   "outputs": [],
   "source": []
  },
  {
   "cell_type": "code",
   "execution_count": 18,
   "id": "11f07a3b-bb57-4d24-88cc-cef6f426d85f",
   "metadata": {},
   "outputs": [],
   "source": [
    "x = np.array([12, 56, 4, 56, 34, 23, 56, 23, 1, 34, 56, 23, 100, 90, 45, 34, 56, 34])"
   ]
  },
  {
   "cell_type": "code",
   "execution_count": 20,
   "id": "4861db80-36ac-4340-9b2c-e4bf5bdc917e",
   "metadata": {},
   "outputs": [
    {
     "data": {
      "text/plain": [
       "array([[ 12,  56,   4,  56,  34,  23],\n",
       "       [ 56,  23,   1,  34,  56,  23],\n",
       "       [100,  90,  45,  34,  56,  34]])"
      ]
     },
     "execution_count": 20,
     "metadata": {},
     "output_type": "execute_result"
    }
   ],
   "source": [
    "x.reshape(3, -1)"
   ]
  },
  {
   "cell_type": "code",
   "execution_count": null,
   "id": "eef2dc37-3d75-4372-a586-8dc6bb9b9c36",
   "metadata": {},
   "outputs": [],
   "source": []
  },
  {
   "cell_type": "code",
   "execution_count": 23,
   "id": "4818b2be-8c1f-4420-b203-91b3d2d0c6bb",
   "metadata": {},
   "outputs": [],
   "source": [
    "x = np.array([12, 56, 4, 56, 34, 23, 56, 23, 1, 34, 56, 23, 100, 90, 45, 34, 56, 34, 34])"
   ]
  },
  {
   "cell_type": "code",
   "execution_count": 26,
   "id": "c8f89a52-3ea8-440d-8dfe-c9b5053a311d",
   "metadata": {},
   "outputs": [],
   "source": [
    "# x.reshape(-1, 4)"
   ]
  },
  {
   "cell_type": "code",
   "execution_count": null,
   "id": "3fe98877-f479-4319-bc62-fa47d2caf9d2",
   "metadata": {},
   "outputs": [],
   "source": []
  },
  {
   "cell_type": "code",
   "execution_count": null,
   "id": "58424b95-1473-4fdd-a33d-81ad263a7779",
   "metadata": {},
   "outputs": [],
   "source": []
  },
  {
   "cell_type": "code",
   "execution_count": 27,
   "id": "5b39b63b-0e18-47c7-aec9-89a367cbedb5",
   "metadata": {},
   "outputs": [],
   "source": [
    "x = np.array([[34, 56, 34, 2], [56, 78, 45, 34]])"
   ]
  },
  {
   "cell_type": "code",
   "execution_count": 29,
   "id": "55e3ffe7-02d6-43a1-8450-a77deb4bb965",
   "metadata": {},
   "outputs": [
    {
     "data": {
      "text/plain": [
       "2"
      ]
     },
     "execution_count": 29,
     "metadata": {},
     "output_type": "execute_result"
    }
   ],
   "source": [
    "x.ndim"
   ]
  },
  {
   "cell_type": "code",
   "execution_count": 31,
   "id": "96e7b60a-750d-4d10-900c-d9d4c7049895",
   "metadata": {},
   "outputs": [
    {
     "data": {
      "text/plain": [
       "array([34, 56, 34,  2, 56, 78, 45, 34])"
      ]
     },
     "execution_count": 31,
     "metadata": {},
     "output_type": "execute_result"
    }
   ],
   "source": [
    "x.reshape(-1)"
   ]
  },
  {
   "cell_type": "code",
   "execution_count": null,
   "id": "07765179-fea5-4608-8526-a125e832a90a",
   "metadata": {},
   "outputs": [],
   "source": []
  },
  {
   "cell_type": "code",
   "execution_count": 32,
   "id": "8aa0ee7f-f09a-4843-82b9-261779d1100c",
   "metadata": {},
   "outputs": [],
   "source": [
    "x = np.array([12, 56, 4, 56, 34, 23, 56, 23, 1, 34, 56, 23, 100, 90, 45, 34, 56, 34])"
   ]
  },
  {
   "cell_type": "code",
   "execution_count": 33,
   "id": "b38f2113-56ce-451e-8182-2e2e9a28e010",
   "metadata": {},
   "outputs": [
    {
     "data": {
      "text/plain": [
       "1"
      ]
     },
     "execution_count": 33,
     "metadata": {},
     "output_type": "execute_result"
    }
   ],
   "source": [
    "x.ndim"
   ]
  },
  {
   "cell_type": "code",
   "execution_count": 34,
   "id": "8e2dde4f-0de2-4d19-aa84-80088de812cc",
   "metadata": {},
   "outputs": [
    {
     "data": {
      "text/plain": [
       "18"
      ]
     },
     "execution_count": 34,
     "metadata": {},
     "output_type": "execute_result"
    }
   ],
   "source": [
    "len(x)"
   ]
  },
  {
   "cell_type": "code",
   "execution_count": null,
   "id": "2003447a-11a8-49a2-85ac-1a4968845ab7",
   "metadata": {},
   "outputs": [],
   "source": [
    "3, 3, 2   ---- 2, 3, 3"
   ]
  },
  {
   "cell_type": "code",
   "execution_count": 35,
   "id": "0259632b-5fa5-4373-87b0-ff00bd6cbea9",
   "metadata": {},
   "outputs": [
    {
     "data": {
      "text/plain": [
       "array([[[ 12,  56,   4],\n",
       "        [ 56,  34,  23],\n",
       "        [ 56,  23,   1]],\n",
       "\n",
       "       [[ 34,  56,  23],\n",
       "        [100,  90,  45],\n",
       "        [ 34,  56,  34]]])"
      ]
     },
     "execution_count": 35,
     "metadata": {},
     "output_type": "execute_result"
    }
   ],
   "source": [
    "x.reshape(2, 3, 3)"
   ]
  },
  {
   "cell_type": "code",
   "execution_count": null,
   "id": "0f7f9e9e-dc42-4f1f-8a69-98df22fe47d2",
   "metadata": {},
   "outputs": [],
   "source": []
  },
  {
   "cell_type": "code",
   "execution_count": null,
   "id": "e5f828c5-48a6-4f31-9d1e-5ea81f7005ff",
   "metadata": {},
   "outputs": [],
   "source": []
  },
  {
   "cell_type": "code",
   "execution_count": 36,
   "id": "5120f842-02b6-4335-886d-e6555d854a83",
   "metadata": {},
   "outputs": [],
   "source": [
    "# unique: "
   ]
  },
  {
   "cell_type": "code",
   "execution_count": null,
   "id": "1d85ad4f-0ea0-4e16-b443-4957131c6b9f",
   "metadata": {},
   "outputs": [],
   "source": []
  },
  {
   "cell_type": "code",
   "execution_count": 37,
   "id": "7b87f9b1-a2c6-48ff-8a34-30783de5dbaa",
   "metadata": {},
   "outputs": [],
   "source": [
    "x = np.array([34, 5, 34, 23, 34, 23, 34, 56, 34, 45, 6, 89, 45, 34, 45, 34, 3, 23, 10])"
   ]
  },
  {
   "cell_type": "code",
   "execution_count": 38,
   "id": "c6cdf7e9-70e5-4de3-976a-60493ac22b9d",
   "metadata": {},
   "outputs": [
    {
     "data": {
      "text/plain": [
       "array([ 3,  5,  6, 10, 23, 34, 45, 56, 89])"
      ]
     },
     "execution_count": 38,
     "metadata": {},
     "output_type": "execute_result"
    }
   ],
   "source": [
    "np.unique(x)"
   ]
  },
  {
   "cell_type": "code",
   "execution_count": null,
   "id": "cfbd43f0-d281-46d4-8185-03562187df22",
   "metadata": {},
   "outputs": [],
   "source": []
  },
  {
   "cell_type": "code",
   "execution_count": 39,
   "id": "9539702a-9335-4b95-9a0c-a23bab2fa0e4",
   "metadata": {},
   "outputs": [],
   "source": [
    "# zx = {34, 5, 34, 23, 34, 23, 34, 56, 34, 45, 6, 89, 45, 34, 45, 34, 3, 23, 10}"
   ]
  },
  {
   "cell_type": "code",
   "execution_count": 41,
   "id": "521ec36e-353f-4e84-a078-02f8f9007bfe",
   "metadata": {},
   "outputs": [],
   "source": [
    "# zx"
   ]
  },
  {
   "cell_type": "code",
   "execution_count": null,
   "id": "57bbd58a-12a0-4e38-8f55-de5a5ef8c44b",
   "metadata": {},
   "outputs": [],
   "source": []
  },
  {
   "cell_type": "code",
   "execution_count": 42,
   "id": "20096573-bde7-4313-92bb-f5735cf830bd",
   "metadata": {},
   "outputs": [],
   "source": [
    "# arange() ------ range()"
   ]
  },
  {
   "cell_type": "code",
   "execution_count": 43,
   "id": "5b799711-6bff-4d6e-8b56-1357becbeb1e",
   "metadata": {},
   "outputs": [],
   "source": [
    "zx = np.arange(1, 21, 1)"
   ]
  },
  {
   "cell_type": "code",
   "execution_count": 44,
   "id": "d8883e01-4755-4279-a429-f47c76fce300",
   "metadata": {},
   "outputs": [
    {
     "data": {
      "text/plain": [
       "array([ 1,  2,  3,  4,  5,  6,  7,  8,  9, 10, 11, 12, 13, 14, 15, 16, 17,\n",
       "       18, 19, 20])"
      ]
     },
     "execution_count": 44,
     "metadata": {},
     "output_type": "execute_result"
    }
   ],
   "source": [
    "zx"
   ]
  },
  {
   "cell_type": "code",
   "execution_count": 45,
   "id": "f2844a86-5991-42a4-8b3f-db197269c231",
   "metadata": {},
   "outputs": [],
   "source": [
    "# default:\n",
    "#     start : 0\n",
    "#     end : n - 1\n",
    "#     incremnt  : 1"
   ]
  },
  {
   "cell_type": "code",
   "execution_count": 48,
   "id": "ffba4e11-8fac-470c-9907-978cb580ffdb",
   "metadata": {},
   "outputs": [],
   "source": [
    "zx = np.arange(1, 21, 2)"
   ]
  },
  {
   "cell_type": "code",
   "execution_count": 49,
   "id": "382ffe12-cc1d-45d0-b081-8262a06b16c5",
   "metadata": {},
   "outputs": [
    {
     "data": {
      "text/plain": [
       "array([ 1,  3,  5,  7,  9, 11, 13, 15, 17, 19])"
      ]
     },
     "execution_count": 49,
     "metadata": {},
     "output_type": "execute_result"
    }
   ],
   "source": [
    "zx"
   ]
  },
  {
   "cell_type": "code",
   "execution_count": null,
   "id": "69e7f0d7-1ae6-4148-a75c-f6178c7e3214",
   "metadata": {},
   "outputs": [],
   "source": []
  },
  {
   "cell_type": "code",
   "execution_count": 50,
   "id": "46805e5d-7766-4420-afaa-991b32678dd9",
   "metadata": {},
   "outputs": [],
   "source": [
    "# zeros()"
   ]
  },
  {
   "cell_type": "code",
   "execution_count": null,
   "id": "00d4a94e-c46e-4a80-9492-a8c68a5b691b",
   "metadata": {},
   "outputs": [],
   "source": [
    "np.zeros"
   ]
  },
  {
   "cell_type": "code",
   "execution_count": null,
   "id": "56aeddfd-8001-4228-a83d-21e7399a4f8d",
   "metadata": {},
   "outputs": [],
   "source": []
  },
  {
   "cell_type": "code",
   "execution_count": 51,
   "id": "3bf626dc-b5c3-48e5-9727-1b3bc98f322b",
   "metadata": {},
   "outputs": [
    {
     "name": "stdout",
     "output_type": "stream",
     "text": [
      "Help on _ArrayFunctionDispatcher in module numpy:\n",
      "\n",
      "append(arr, values, axis=None)\n",
      "    Append values to the end of an array.\n",
      "\n",
      "    Parameters\n",
      "    ----------\n",
      "    arr : array_like\n",
      "        Values are appended to a copy of this array.\n",
      "    values : array_like\n",
      "        These values are appended to a copy of `arr`.  It must be of the\n",
      "        correct shape (the same shape as `arr`, excluding `axis`).  If\n",
      "        `axis` is not specified, `values` can be any shape and will be\n",
      "        flattened before use.\n",
      "    axis : int, optional\n",
      "        The axis along which `values` are appended.  If `axis` is not\n",
      "        given, both `arr` and `values` are flattened before use.\n",
      "\n",
      "    Returns\n",
      "    -------\n",
      "    append : ndarray\n",
      "        A copy of `arr` with `values` appended to `axis`.  Note that\n",
      "        `append` does not occur in-place: a new array is allocated and\n",
      "        filled.  If `axis` is None, `out` is a flattened array.\n",
      "\n",
      "    See Also\n",
      "    --------\n",
      "    insert : Insert elements into an array.\n",
      "    delete : Delete elements from an array.\n",
      "\n",
      "    Examples\n",
      "    --------\n",
      "    >>> np.append([1, 2, 3], [[4, 5, 6], [7, 8, 9]])\n",
      "    array([1, 2, 3, ..., 7, 8, 9])\n",
      "\n",
      "    When `axis` is specified, `values` must have the correct shape.\n",
      "\n",
      "    >>> np.append([[1, 2, 3], [4, 5, 6]], [[7, 8, 9]], axis=0)\n",
      "    array([[1, 2, 3],\n",
      "           [4, 5, 6],\n",
      "           [7, 8, 9]])\n",
      "    >>> np.append([[1, 2, 3], [4, 5, 6]], [7, 8, 9], axis=0)\n",
      "    Traceback (most recent call last):\n",
      "        ...\n",
      "    ValueError: all the input arrays must have same number of dimensions, but\n",
      "    the array at index 0 has 2 dimension(s) and the array at index 1 has 1\n",
      "    dimension(s)\n",
      "\n"
     ]
    }
   ],
   "source": [
    "help(np.append)"
   ]
  },
  {
   "cell_type": "code",
   "execution_count": null,
   "id": "435242d4-4dd2-4b1d-8e6c-920a045f50ab",
   "metadata": {},
   "outputs": [],
   "source": []
  },
  {
   "cell_type": "code",
   "execution_count": 65,
   "id": "29e837a1-e84a-477e-80e4-b6303b281f6f",
   "metadata": {},
   "outputs": [],
   "source": [
    "zx = np.zeros((3, 4))"
   ]
  },
  {
   "cell_type": "code",
   "execution_count": 66,
   "id": "2a267be7-cbf2-483c-98d4-f6d5928c4e7c",
   "metadata": {},
   "outputs": [
    {
     "data": {
      "text/plain": [
       "array([[0., 0., 0., 0.],\n",
       "       [0., 0., 0., 0.],\n",
       "       [0., 0., 0., 0.]])"
      ]
     },
     "execution_count": 66,
     "metadata": {},
     "output_type": "execute_result"
    }
   ],
   "source": [
    "zx"
   ]
  },
  {
   "cell_type": "code",
   "execution_count": null,
   "id": "e92ceeec-b58d-4412-949e-cfd13cf4d464",
   "metadata": {},
   "outputs": [],
   "source": []
  },
  {
   "cell_type": "code",
   "execution_count": 67,
   "id": "a4d6d1c8-1ad5-4677-bd52-835386a4dea9",
   "metadata": {},
   "outputs": [],
   "source": [
    "x = np.ones((2, 5))"
   ]
  },
  {
   "cell_type": "code",
   "execution_count": 68,
   "id": "a46f051b-bc23-4b35-b551-c2541d406b3d",
   "metadata": {},
   "outputs": [
    {
     "data": {
      "text/plain": [
       "array([[1., 1., 1., 1., 1.],\n",
       "       [1., 1., 1., 1., 1.]])"
      ]
     },
     "execution_count": 68,
     "metadata": {},
     "output_type": "execute_result"
    }
   ],
   "source": [
    "x"
   ]
  },
  {
   "cell_type": "code",
   "execution_count": null,
   "id": "c0a78c82-57d1-4487-862d-1839a7b8e09d",
   "metadata": {},
   "outputs": [],
   "source": []
  },
  {
   "cell_type": "code",
   "execution_count": 69,
   "id": "a4efa216-3f22-4100-a450-9ee50a103729",
   "metadata": {},
   "outputs": [],
   "source": [
    "# random"
   ]
  },
  {
   "cell_type": "code",
   "execution_count": 70,
   "id": "751a2c5b-d937-4b40-91b4-44535846222e",
   "metadata": {},
   "outputs": [],
   "source": [
    "# import random\n",
    "\n",
    "from numpy import random"
   ]
  },
  {
   "cell_type": "code",
   "execution_count": 81,
   "id": "89dd21fb-ef72-46a0-a8eb-949124d72f32",
   "metadata": {},
   "outputs": [],
   "source": [
    "x = random.randint(50, size = (5, 3))"
   ]
  },
  {
   "cell_type": "code",
   "execution_count": 82,
   "id": "8e2eaf97-c889-4f92-b856-07acd9974106",
   "metadata": {},
   "outputs": [
    {
     "data": {
      "text/plain": [
       "array([[24, 17, 30],\n",
       "       [40, 17, 10],\n",
       "       [33, 24, 17],\n",
       "       [25, 14, 41],\n",
       "       [16, 43, 35]])"
      ]
     },
     "execution_count": 82,
     "metadata": {},
     "output_type": "execute_result"
    }
   ],
   "source": [
    "x"
   ]
  },
  {
   "cell_type": "code",
   "execution_count": 84,
   "id": "a8ccdd24-9a51-4939-93a6-1f6a03417404",
   "metadata": {},
   "outputs": [
    {
     "data": {
      "text/plain": [
       "2"
      ]
     },
     "execution_count": 84,
     "metadata": {},
     "output_type": "execute_result"
    }
   ],
   "source": [
    "x.ndim"
   ]
  },
  {
   "cell_type": "code",
   "execution_count": 86,
   "id": "37656bd0-e747-4d7c-9948-bead99fb5df8",
   "metadata": {},
   "outputs": [
    {
     "data": {
      "text/plain": [
       "(5, 3)"
      ]
     },
     "execution_count": 86,
     "metadata": {},
     "output_type": "execute_result"
    }
   ],
   "source": [
    "x.shape"
   ]
  },
  {
   "cell_type": "code",
   "execution_count": null,
   "id": "761ce99d-4ef9-4bfb-9968-2beb73615e6b",
   "metadata": {},
   "outputs": [],
   "source": []
  },
  {
   "cell_type": "code",
   "execution_count": null,
   "id": "f88fc234-08e6-4d70-bc3f-127ed869df7f",
   "metadata": {},
   "outputs": [],
   "source": [
    "# rand --> 0, 1"
   ]
  },
  {
   "cell_type": "code",
   "execution_count": 94,
   "id": "10267df5-a5fd-44a9-9ef9-ce704dce5646",
   "metadata": {},
   "outputs": [
    {
     "data": {
      "text/plain": [
       "array([[0.76394477, 0.91639173, 0.32900276, 0.42576844],\n",
       "       [0.17882289, 0.15197679, 0.33142555, 0.13087015],\n",
       "       [0.11041364, 0.91211894, 0.04227667, 0.77789098]])"
      ]
     },
     "execution_count": 94,
     "metadata": {},
     "output_type": "execute_result"
    }
   ],
   "source": [
    "random.rand(3, 4)"
   ]
  },
  {
   "cell_type": "code",
   "execution_count": null,
   "id": "f5147a66-9b66-42d2-bf88-11dddc8c6611",
   "metadata": {},
   "outputs": [],
   "source": []
  },
  {
   "cell_type": "code",
   "execution_count": null,
   "id": "45e80d55-9363-4e2f-a103-c074c750ea2f",
   "metadata": {},
   "outputs": [],
   "source": []
  },
  {
   "cell_type": "code",
   "execution_count": 95,
   "id": "567b260d-e7d6-4c46-a71b-6ca67ab791d2",
   "metadata": {},
   "outputs": [],
   "source": [
    "# choice() --> "
   ]
  },
  {
   "cell_type": "code",
   "execution_count": 101,
   "id": "eadef288-ed19-487a-aca3-0df66ad3cc3e",
   "metadata": {},
   "outputs": [
    {
     "data": {
      "text/plain": [
       "78"
      ]
     },
     "execution_count": 101,
     "metadata": {},
     "output_type": "execute_result"
    }
   ],
   "source": [
    "random.choice([34, 45, 23, 45, 23, 67, 78])"
   ]
  },
  {
   "cell_type": "code",
   "execution_count": 103,
   "id": "54d7978d-55dd-43d7-9a91-f19ea34c3c21",
   "metadata": {},
   "outputs": [
    {
     "data": {
      "text/plain": [
       "array([[67, 78, 34, 45, 23, 34, 67, 45],\n",
       "       [34, 78, 78, 34, 34, 45, 23, 67],\n",
       "       [45, 45, 34, 78, 45, 45, 67, 67],\n",
       "       [23, 78, 45, 34, 78, 23, 34, 45]])"
      ]
     },
     "execution_count": 103,
     "metadata": {},
     "output_type": "execute_result"
    }
   ],
   "source": [
    "random.choice([34, 45, 23, 45, 23, 67, 78], size = (4, 8))"
   ]
  },
  {
   "cell_type": "code",
   "execution_count": null,
   "id": "55d8d8b7-cc7d-4b78-a557-fc7c50a00d1b",
   "metadata": {},
   "outputs": [],
   "source": []
  },
  {
   "cell_type": "code",
   "execution_count": 105,
   "id": "fd32361b-f114-40b2-9360-71b50223d03b",
   "metadata": {},
   "outputs": [
    {
     "name": "stdout",
     "output_type": "stream",
     "text": [
      "Help on built-in function choice:\n",
      "\n",
      "choice(...) method of numpy.random.mtrand.RandomState instance\n",
      "    choice(a, size=None, replace=True, p=None)\n",
      "\n",
      "    Generates a random sample from a given 1-D array\n",
      "\n",
      "    .. versionadded:: 1.7.0\n",
      "\n",
      "    .. note::\n",
      "        New code should use the `~numpy.random.Generator.choice`\n",
      "        method of a `~numpy.random.Generator` instance instead;\n",
      "        please see the :ref:`random-quick-start`.\n",
      "\n",
      "    Parameters\n",
      "    ----------\n",
      "    a : 1-D array-like or int\n",
      "        If an ndarray, a random sample is generated from its elements.\n",
      "        If an int, the random sample is generated as if it were ``np.arange(a)``\n",
      "    size : int or tuple of ints, optional\n",
      "        Output shape.  If the given shape is, e.g., ``(m, n, k)``, then\n",
      "        ``m * n * k`` samples are drawn.  Default is None, in which case a\n",
      "        single value is returned.\n",
      "    replace : boolean, optional\n",
      "        Whether the sample is with or without replacement. Default is True,\n",
      "        meaning that a value of ``a`` can be selected multiple times.\n",
      "    p : 1-D array-like, optional\n",
      "        The probabilities associated with each entry in a.\n",
      "        If not given, the sample assumes a uniform distribution over all\n",
      "        entries in ``a``.\n",
      "\n",
      "    Returns\n",
      "    -------\n",
      "    samples : single item or ndarray\n",
      "        The generated random samples\n",
      "\n",
      "    Raises\n",
      "    ------\n",
      "    ValueError\n",
      "        If a is an int and less than zero, if a or p are not 1-dimensional,\n",
      "        if a is an array-like of size 0, if p is not a vector of\n",
      "        probabilities, if a and p have different lengths, or if\n",
      "        replace=False and the sample size is greater than the population\n",
      "        size\n",
      "\n",
      "    See Also\n",
      "    --------\n",
      "    randint, shuffle, permutation\n",
      "    random.Generator.choice: which should be used in new code\n",
      "\n",
      "    Notes\n",
      "    -----\n",
      "    Setting user-specified probabilities through ``p`` uses a more general but less\n",
      "    efficient sampler than the default. The general sampler produces a different sample\n",
      "    than the optimized sampler even if each element of ``p`` is 1 / len(a).\n",
      "\n",
      "    Sampling random rows from a 2-D array is not possible with this function,\n",
      "    but is possible with `Generator.choice` through its ``axis`` keyword.\n",
      "\n",
      "    Examples\n",
      "    --------\n",
      "    Generate a uniform random sample from np.arange(5) of size 3:\n",
      "\n",
      "    >>> np.random.choice(5, 3)\n",
      "    array([0, 3, 4]) # random\n",
      "    >>> #This is equivalent to np.random.randint(0,5,3)\n",
      "\n",
      "    Generate a non-uniform random sample from np.arange(5) of size 3:\n",
      "\n",
      "    >>> np.random.choice(5, 3, p=[0.1, 0, 0.3, 0.6, 0])\n",
      "    array([3, 3, 0]) # random\n",
      "\n",
      "    Generate a uniform random sample from np.arange(5) of size 3 without\n",
      "    replacement:\n",
      "\n",
      "    >>> np.random.choice(5, 3, replace=False)\n",
      "    array([3,1,0]) # random\n",
      "    >>> #This is equivalent to np.random.permutation(np.arange(5))[:3]\n",
      "\n",
      "    Generate a non-uniform random sample from np.arange(5) of size\n",
      "    3 without replacement:\n",
      "\n",
      "    >>> np.random.choice(5, 3, replace=False, p=[0.1, 0, 0.3, 0.6, 0])\n",
      "    array([2, 3, 0]) # random\n",
      "\n",
      "    Any of the above can be repeated with an arbitrary array-like\n",
      "    instead of just integers. For instance:\n",
      "\n",
      "    >>> aa_milne_arr = ['pooh', 'rabbit', 'piglet', 'Christopher']\n",
      "    >>> np.random.choice(aa_milne_arr, 5, p=[0.5, 0.1, 0.1, 0.3])\n",
      "    array(['pooh', 'pooh', 'pooh', 'Christopher', 'piglet'], # random\n",
      "          dtype='<U11')\n",
      "\n"
     ]
    }
   ],
   "source": [
    "help(random.choice)"
   ]
  },
  {
   "cell_type": "code",
   "execution_count": null,
   "id": "e3b46b95-399c-49c9-8aa7-fb0c013dfba7",
   "metadata": {},
   "outputs": [],
   "source": []
  }
 ],
 "metadata": {
  "kernelspec": {
   "display_name": "Python 3 (ipykernel)",
   "language": "python",
   "name": "python3"
  },
  "language_info": {
   "codemirror_mode": {
    "name": "ipython",
    "version": 3
   },
   "file_extension": ".py",
   "mimetype": "text/x-python",
   "name": "python",
   "nbconvert_exporter": "python",
   "pygments_lexer": "ipython3",
   "version": "3.12.0"
  }
 },
 "nbformat": 4,
 "nbformat_minor": 5
}
