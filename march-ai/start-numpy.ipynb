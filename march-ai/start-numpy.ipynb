{
 "cells": [
  {
   "cell_type": "code",
   "execution_count": 1,
   "id": "9784ac2e-a6b2-45f3-85b7-e1aee5ca0cd3",
   "metadata": {},
   "outputs": [],
   "source": [
    "# Numpy\n",
    "# Pandas\n",
    "# matplotlib"
   ]
  },
  {
   "cell_type": "code",
   "execution_count": 2,
   "id": "98373d5d-385f-4c1d-99ed-1033b727c959",
   "metadata": {},
   "outputs": [],
   "source": [
    "# Numpy -->\n",
    "\n",
    "# arrays\n",
    "\n",
    "# zx = [12, 45, 23, \"heloo\", \"car\"]\n",
    "\n",
    "# Hittrogenoius"
   ]
  },
  {
   "cell_type": "code",
   "execution_count": null,
   "id": "88d12535-8dc0-4047-9fbc-84968cd4cfe3",
   "metadata": {},
   "outputs": [],
   "source": [
    "Numpy : Numarical Python\n",
    "\n",
    "2005 ------> Travis Oliphant\n",
    "\n",
    "\n",
    "Numpy vs list\n",
    "\n",
    "# [10, 34, ..........\n",
    "\n",
    "numpy:\n",
    "\n",
    "python : 70%\n",
    "c/c++ : 30%\n",
    "\n",
    "50X\n",
    "\n"
   ]
  },
  {
   "cell_type": "code",
   "execution_count": 3,
   "id": "a183c0e4-5b98-4602-8370-ce0075290b6b",
   "metadata": {},
   "outputs": [
    {
     "name": "stdout",
     "output_type": "stream",
     "text": [
      "Requirement already satisfied: numpy in c:\\users\\17nru\\appdata\\local\\programs\\python\\python312\\lib\\site-packages (1.26.2)\n"
     ]
    },
    {
     "name": "stderr",
     "output_type": "stream",
     "text": [
      "DEPRECATION: textract 1.6.5 has a non-standard dependency specifier extract-msg<=0.29.*. pip 24.1 will enforce this behaviour change. A possible replacement is to upgrade to a newer version of textract or contact the author to suggest that they release a version with a conforming dependency specifiers. Discussion can be found at https://github.com/pypa/pip/issues/12063\n"
     ]
    }
   ],
   "source": [
    "!pip install numpy"
   ]
  },
  {
   "cell_type": "code",
   "execution_count": null,
   "id": "c9db8a2f-ec0b-4f2b-bf49-031a9d9068d4",
   "metadata": {},
   "outputs": [],
   "source": []
  },
  {
   "cell_type": "code",
   "execution_count": 6,
   "id": "fe204118-817a-44dc-b065-d0ce56f68f88",
   "metadata": {},
   "outputs": [],
   "source": [
    "import numpy as np"
   ]
  },
  {
   "cell_type": "code",
   "execution_count": null,
   "id": "63494c89-671c-41e4-bb33-b9305c5470bc",
   "metadata": {},
   "outputs": [],
   "source": []
  },
  {
   "cell_type": "code",
   "execution_count": 8,
   "id": "81b27dfb-21e7-4445-ada6-e1cdbd984034",
   "metadata": {},
   "outputs": [],
   "source": [
    "# arrays....:"
   ]
  },
  {
   "cell_type": "code",
   "execution_count": null,
   "id": "0dd3ec4d-a618-4d7a-8b1b-19f5a66791c4",
   "metadata": {},
   "outputs": [],
   "source": [
    "ndarrays : when we create ab object in numpy with the help array method, that object is called ndarray"
   ]
  },
  {
   "cell_type": "code",
   "execution_count": null,
   "id": "2084d68a-3cd0-4713-84ad-8a34f5280c4f",
   "metadata": {},
   "outputs": [],
   "source": []
  },
  {
   "cell_type": "code",
   "execution_count": 9,
   "id": "343c03fe-a279-4666-85c9-3ce2d0d0a317",
   "metadata": {},
   "outputs": [],
   "source": [
    "arr = np.array(100)"
   ]
  },
  {
   "cell_type": "code",
   "execution_count": 10,
   "id": "cac6a636-c920-4f6b-9d7b-f9e47d0aaa7f",
   "metadata": {},
   "outputs": [
    {
     "data": {
      "text/plain": [
       "numpy.ndarray"
      ]
     },
     "execution_count": 10,
     "metadata": {},
     "output_type": "execute_result"
    }
   ],
   "source": [
    "type(arr)"
   ]
  },
  {
   "cell_type": "code",
   "execution_count": null,
   "id": "9c9b9ef6-94b8-4405-ac15-be05dcb4fb9e",
   "metadata": {},
   "outputs": [],
   "source": []
  },
  {
   "cell_type": "code",
   "execution_count": 11,
   "id": "17467733-22da-4de6-b5c0-08a215833157",
   "metadata": {},
   "outputs": [],
   "source": [
    "# arrays:"
   ]
  },
  {
   "cell_type": "code",
   "execution_count": 12,
   "id": "96ca8241-4f01-4472-9c16-d659b3bc28e1",
   "metadata": {},
   "outputs": [],
   "source": [
    "# ndim-----> hepl us to get the demssion of na ndarray"
   ]
  },
  {
   "cell_type": "code",
   "execution_count": 13,
   "id": "611eaeee-c2ae-437d-a8f3-cb82a5f8756b",
   "metadata": {},
   "outputs": [
    {
     "data": {
      "text/plain": [
       "0"
      ]
     },
     "execution_count": 13,
     "metadata": {},
     "output_type": "execute_result"
    }
   ],
   "source": [
    "arr.ndim"
   ]
  },
  {
   "cell_type": "code",
   "execution_count": null,
   "id": "c459f492-fe0e-41c1-8e51-239c143ecc87",
   "metadata": {},
   "outputs": [],
   "source": []
  },
  {
   "cell_type": "markdown",
   "id": "1897f609-db04-4c7d-acb3-915940c80974",
   "metadata": {},
   "source": [
    "### 1 -d ndarray"
   ]
  },
  {
   "cell_type": "code",
   "execution_count": null,
   "id": "efe4d0c7-7c53-4d18-9c77-696e4daaa84c",
   "metadata": {},
   "outputs": [],
   "source": []
  },
  {
   "cell_type": "code",
   "execution_count": 14,
   "id": "1f7a3383-7b4f-46fc-8ce5-b5e0a452917c",
   "metadata": {},
   "outputs": [],
   "source": [
    "xyz = np.array([12, 45, 67, 34, 100, 90])"
   ]
  },
  {
   "cell_type": "code",
   "execution_count": 15,
   "id": "7079dcb4-f653-4767-922f-c9dad5d5a4d4",
   "metadata": {},
   "outputs": [
    {
     "data": {
      "text/plain": [
       "array([ 12,  45,  67,  34, 100,  90])"
      ]
     },
     "execution_count": 15,
     "metadata": {},
     "output_type": "execute_result"
    }
   ],
   "source": [
    "xyz"
   ]
  },
  {
   "cell_type": "code",
   "execution_count": 16,
   "id": "1dbd54ea-1c43-4647-885c-f27b8f741d42",
   "metadata": {},
   "outputs": [
    {
     "data": {
      "text/plain": [
       "1"
      ]
     },
     "execution_count": 16,
     "metadata": {},
     "output_type": "execute_result"
    }
   ],
   "source": [
    "xyz.ndim"
   ]
  },
  {
   "cell_type": "code",
   "execution_count": null,
   "id": "a99a70d7-0cb3-4cf7-8593-f2960ddec260",
   "metadata": {},
   "outputs": [],
   "source": []
  },
  {
   "cell_type": "markdown",
   "id": "6f2ab0e3-d523-48ad-bd5e-212382d56901",
   "metadata": {},
   "source": [
    "## 2d arrays"
   ]
  },
  {
   "cell_type": "code",
   "execution_count": 23,
   "id": "eb4658df-f4b2-4024-ae96-25437d2ec106",
   "metadata": {},
   "outputs": [],
   "source": [
    "x = np.array([[12, 34, 56, 78], [56, 78, 45, 34], [56, 78, 45, 23]])"
   ]
  },
  {
   "cell_type": "code",
   "execution_count": 24,
   "id": "cc375d57-3e96-44e0-969b-24f6e852ee63",
   "metadata": {},
   "outputs": [
    {
     "data": {
      "text/plain": [
       "array([[12, 34, 56, 78],\n",
       "       [56, 78, 45, 34],\n",
       "       [56, 78, 45, 23]])"
      ]
     },
     "execution_count": 24,
     "metadata": {},
     "output_type": "execute_result"
    }
   ],
   "source": [
    "x"
   ]
  },
  {
   "cell_type": "code",
   "execution_count": 22,
   "id": "29376b72-cd72-453b-9fe2-73502243716e",
   "metadata": {},
   "outputs": [
    {
     "data": {
      "text/plain": [
       "2"
      ]
     },
     "execution_count": 22,
     "metadata": {},
     "output_type": "execute_result"
    }
   ],
   "source": [
    "x.ndim"
   ]
  },
  {
   "cell_type": "code",
   "execution_count": null,
   "id": "b8b49b4a-d45b-400c-8336-a2572c770f68",
   "metadata": {},
   "outputs": [],
   "source": []
  },
  {
   "cell_type": "markdown",
   "id": "fa2dc278-fc54-40dd-98fd-b192b1e4fee9",
   "metadata": {},
   "source": [
    "### 3d ndarray"
   ]
  },
  {
   "cell_type": "code",
   "execution_count": 31,
   "id": "c11c3b58-5421-4b07-8010-9c5de502def2",
   "metadata": {},
   "outputs": [],
   "source": [
    "y = np.array([[[2, 3, 4, 5], [4, 5, 2, 3]], [[34, 45, 23, 12], [45, 78, 34, 23]]])"
   ]
  },
  {
   "cell_type": "code",
   "execution_count": 32,
   "id": "ebc984fd-8530-43e1-9c16-8826c08d7d61",
   "metadata": {},
   "outputs": [
    {
     "data": {
      "text/plain": [
       "array([[[ 2,  3,  4,  5],\n",
       "        [ 4,  5,  2,  3]],\n",
       "\n",
       "       [[34, 45, 23, 12],\n",
       "        [45, 78, 34, 23]]])"
      ]
     },
     "execution_count": 32,
     "metadata": {},
     "output_type": "execute_result"
    }
   ],
   "source": [
    "y"
   ]
  },
  {
   "cell_type": "code",
   "execution_count": 33,
   "id": "692238ac-03cc-4963-82c7-890d727788b2",
   "metadata": {},
   "outputs": [
    {
     "data": {
      "text/plain": [
       "3"
      ]
     },
     "execution_count": 33,
     "metadata": {},
     "output_type": "execute_result"
    }
   ],
   "source": [
    "y.ndim"
   ]
  },
  {
   "cell_type": "code",
   "execution_count": null,
   "id": "76b19b8a-f6a7-4da2-b0f1-4f9c3c709b37",
   "metadata": {},
   "outputs": [],
   "source": []
  },
  {
   "cell_type": "code",
   "execution_count": 34,
   "id": "cab4ed98-6b8e-4633-b86a-c877896ccc73",
   "metadata": {},
   "outputs": [],
   "source": [
    "xyz = np.array([[[[[[45]]]]]])"
   ]
  },
  {
   "cell_type": "code",
   "execution_count": 35,
   "id": "f3ea76d9-d99f-4bb2-8d53-4cbe8edf460f",
   "metadata": {},
   "outputs": [
    {
     "data": {
      "text/plain": [
       "6"
      ]
     },
     "execution_count": 35,
     "metadata": {},
     "output_type": "execute_result"
    }
   ],
   "source": [
    "xyz.ndim"
   ]
  },
  {
   "cell_type": "code",
   "execution_count": null,
   "id": "3e370a1c-fb47-4903-9133-093c3d842432",
   "metadata": {},
   "outputs": [],
   "source": [
    "5D"
   ]
  },
  {
   "cell_type": "code",
   "execution_count": null,
   "id": "42d0d2b1-c3e4-4543-b505-37bd1dfeef92",
   "metadata": {},
   "outputs": [],
   "source": [
    "ndaray\n",
    "ndim"
   ]
  }
 ],
 "metadata": {
  "kernelspec": {
   "display_name": "Python 3 (ipykernel)",
   "language": "python",
   "name": "python3"
  },
  "language_info": {
   "codemirror_mode": {
    "name": "ipython",
    "version": 3
   },
   "file_extension": ".py",
   "mimetype": "text/x-python",
   "name": "python",
   "nbconvert_exporter": "python",
   "pygments_lexer": "ipython3",
   "version": "3.12.0"
  }
 },
 "nbformat": 4,
 "nbformat_minor": 5
}
